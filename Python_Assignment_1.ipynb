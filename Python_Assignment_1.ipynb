{
 "cells": [
  {
   "cell_type": "code",
   "execution_count": null,
   "id": "53b07ae8-feff-42e9-abb9-99090414fc36",
   "metadata": {},
   "outputs": [],
   "source": [
    "# wap ask the user enter 3 numbers calculate average\n",
    "\n",
    "num1=10\n",
    "num2=20\n",
    "num3=30\n",
    "average=(num1+num2+num3)/3\n",
    "print(f\"the average of {num1} and {num2} and {num3} is :{average}\")"
   ]
  },
  {
   "cell_type": "code",
   "execution_count": 5,
   "id": "aa939fe2-6a46-4571-b7ad-5a1df4fabcdc",
   "metadata": {},
   "outputs": [
    {
     "name": "stdout",
     "output_type": "stream",
     "text": [
      "the addition of 10 and 20 is 30\n",
      "the substraction of 20 and 10 is 10\n",
      "the multiplication of 10 and 20 is 200\n"
     ]
    }
   ],
   "source": [
    "# wap ask the user enter the 2 numbers find the substraction, addition, multiplication\n",
    "\n",
    "a=10\n",
    "b=20\n",
    "c=a+b\n",
    "d=b-a\n",
    "e=a*b\n",
    "print(f\"the addition of {a} and {b} is {c}\")\n",
    "print(f\"the substraction of {b} and {a} is {d}\")\n",
    "print(f\"the multiplication of {a} and {b} is {e}\")      "
   ]
  },
  {
   "cell_type": "code",
   "execution_count": 7,
   "id": "8c7b9656-b209-425c-89da-f9f68e9f4af0",
   "metadata": {},
   "outputs": [
    {
     "name": "stdout",
     "output_type": "stream",
     "text": [
      "the area of circle is 314.0\n"
     ]
    }
   ],
   "source": [
    "# wap ask the user enter radius values find the area of the circle\n",
    "\n",
    "radius=10\n",
    "pi_value=3.14\n",
    "area=pi_value*radius*radius\n",
    "print(f\"the area of circle is {area}\") "
   ]
  },
  {
   "cell_type": "code",
   "execution_count": 10,
   "id": "5d65af98-edef-4a7d-88a6-e15382e64afd",
   "metadata": {},
   "outputs": [
    {
     "name": "stdout",
     "output_type": "stream",
     "text": [
      "the total bill is:1100.0\n"
     ]
    }
   ],
   "source": [
    "# wap ask the user bill amount\n",
    "   # ask the user how much tip you want to pay in percentage\n",
    "   # calculate totalbill\n",
    "\n",
    "bill_amount=1000\n",
    "tip_percentage=10\n",
    "tip_amount=bill_amount*tip_percentage/100\n",
    "total_bill=bill_amount+tip_amount\n",
    "print(f\"the total bill is:{total_bill}\")"
   ]
  },
  {
   "cell_type": "code",
   "execution_count": 11,
   "id": "34a562a5-dcb6-47d6-a20c-59edd83aee5f",
   "metadata": {},
   "outputs": [
    {
     "name": "stdout",
     "output_type": "stream",
     "text": [
      "the bill amount in rupees is:800\n"
     ]
    }
   ],
   "source": [
    "# wap ask the user bill amount in dollars \n",
    "       # ask the user one dollar\n",
    "       # print the bill amount in rupees\n",
    "\n",
    "bill_amount=10\n",
    "one_doller=80\n",
    "in_rupees=10*80\n",
    "print(f\"the bill amount in rupees is:{in_rupees}\")"
   ]
  },
  {
   "cell_type": "code",
   "execution_count": 12,
   "id": "c8997dfd-4893-4ee7-8b03-2515e3625a49",
   "metadata": {},
   "outputs": [
    {
     "name": "stdout",
     "output_type": "stream",
     "text": [
      "the area of triangle is 100.0\n"
     ]
    }
   ],
   "source": [
    "# wap ask the user enter base ,height calculate area of the triangle \n",
    "\n",
    "base=10\n",
    "height=20\n",
    "area=0.5*base*height\n",
    "print(f\"the area of triangle is {area}\")"
   ]
  },
  {
   "cell_type": "code",
   "execution_count": 13,
   "id": "d76ba45e-b217-4a55-9d97-fb4855756b26",
   "metadata": {},
   "outputs": [
    {
     "name": "stdout",
     "output_type": "stream",
     "text": [
      "the area of rectangle is:200\n"
     ]
    }
   ],
   "source": [
    "# wap ask the user enter length and breadth calculate are of the rectangle\n",
    "\n",
    "length=10\n",
    "breadth=20\n",
    "area=length*breadth\n",
    "print(f\"the area of rectangle is:{area}\")"
   ]
  },
  {
   "cell_type": "code",
   "execution_count": 14,
   "id": "b6f40ecc-22bf-48ae-9723-ba02350f4c4b",
   "metadata": {},
   "outputs": [
    {
     "name": "stdout",
     "output_type": "stream",
     "text": [
      "the square of 5 is:25\n"
     ]
    }
   ],
   "source": [
    "# Ask the user to enter a number. Print out the square of the number,\n",
    "     # Sample output is shown below.\n",
    "     # Enter a number: 5\n",
    "     # The square of 5 is 25.\n",
    "\n",
    "a=5\n",
    "b=a*a\n",
    "print(f\"the square of 5 is:{b}\")"
   ]
  },
  {
   "cell_type": "code",
   "execution_count": 3,
   "id": "bedac943-585e-4225-862c-67d26508314e",
   "metadata": {},
   "outputs": [
    {
     "name": "stdin",
     "output_type": "stream",
     "text": [
      "enter the number: 7\n"
     ]
    },
    {
     "name": "stdout",
     "output_type": "stream",
     "text": [
      "7---14---21\n"
     ]
    }
   ],
   "source": [
    "# Ask the user to enter a number x. print out x, 2x, 3x, 4x, and 5x,\n",
    "     # each separated by three dashes, like below.\n",
    "     # Enter a number: 7\n",
    "     # 7---14---21---28---35\n",
    "\n",
    "\n",
    "x=eval(input(\"enter the number:\"))\n",
    "print(x,2*x,3*x,sep='---')"
   ]
  },
  {
   "cell_type": "code",
   "execution_count": 43,
   "id": "da6f9692-a71e-4805-9f4e-037a25659829",
   "metadata": {},
   "outputs": [
    {
     "name": "stdout",
     "output_type": "stream",
     "text": [
      "weight in kilogram coverts to pounds is:22.0\n"
     ]
    }
   ],
   "source": [
    "# Write a program that asks the user for a weight in kilograms and converts it to pounds. \n",
    " # There are 2.2 pounds in a kilogram.\n",
    "\n",
    "weight_kilogram=10\n",
    "one_pounds=2.2\n",
    "weight_pounds=10*2.2\n",
    "print(f\"weight in kilogram coverts to pounds is:{weight_pounds}\")"
   ]
  },
  {
   "cell_type": "code",
   "execution_count": 48,
   "id": "927fe3ac-50ca-4e18-8e8e-33d4532f3fb9",
   "metadata": {},
   "outputs": [
    {
     "name": "stdin",
     "output_type": "stream",
     "text": [
      " 10\n",
      " 20\n",
      " 30\n"
     ]
    },
    {
     "name": "stdout",
     "output_type": "stream",
     "text": [
      "the values of total is:60\n",
      "the values of average is:20.0\n"
     ]
    }
   ],
   "source": [
    "# Write a program that asks the user to enter three numbers (use three separate input statements).\n",
    "  # Create variables called total and average that hold the sum and average of the three numbers and \n",
    "  # print out the values of total and average.\n",
    "\n",
    "num1=10\n",
    "num2=20\n",
    "num3=30\n",
    "total=num1+num2+num3\n",
    "average=(num1+num2+num3)/3\n",
    "input()\n",
    "input()\n",
    "input()\n",
    "print(f\"the values of total is:{total}\")\n",
    "print(f\"the values of average is:{average}\")"
   ]
  },
  {
   "cell_type": "code",
   "execution_count": 49,
   "id": "20afd0ab-e69f-4974-be54-3a85baf32113",
   "metadata": {},
   "outputs": [
    {
     "name": "stdout",
     "output_type": "stream",
     "text": [
      "the tip amount and the total bill is:1100.0\n"
     ]
    }
   ],
   "source": [
    "# A lot of cell phones have tip calculators. Write one. Ask the user for the price of the meal and the percent tip they want to leave.\n",
    "  # Then print both the tip amount and the total bill with the tip included.\n",
    "\n",
    "price_of_meal=1000\n",
    "tip_percent=10\n",
    "tip_amount=price_of_meal*tip_percent/100\n",
    "total_bill=price_of_meal+tip_amount\n",
    "print(f\"the tip amount and the total bill is:{total_bill}\")"
   ]
  },
  {
   "cell_type": "code",
   "execution_count": 7,
   "id": "fda418f8-f891-4132-8732-b109a36e3209",
   "metadata": {},
   "outputs": [
    {
     "name": "stdin",
     "output_type": "stream",
     "text": [
      "Father: Hey Baby!\n",
      "Daughter: Hello Dady\n",
      "Father:  I heard your exams are over, what about result\n",
      "Daughter: Yes dad! Results are out\n",
      "Father:  what is the percentage?\n",
      "Daughter: I will give my subject wise marks , you tell me the percentage\n",
      "Father: Okay!\n",
      "First_Language 90\n",
      "Second_language 92\n",
      "Third_language 93\n",
      "Science 94\n",
      "Maths 98\n",
      "Daughter: Dad Now tell me how much percentage I got\n",
      "Father: Tell me the max marks of each subject\n",
      "Daughter: 100\n"
     ]
    },
    {
     "name": "stdout",
     "output_type": "stream",
     "text": [
      "the percentage of marks is 93.4\n"
     ]
    }
   ],
   "source": [
    "# Let’s create a story between Father and daughter , You need to create a story by using print and input keywords\n",
    "  # You need to develop a python code same like below steps\n",
    "  # The goal of this code is to understand python is step by step process\n",
    "    # Step-1: input(“ Father: Hey Baby!”)\n",
    "    # Step-2: input(“Daughter: Hello Dady”)\n",
    "    # Step-3: input(“Father: I heard your exams are over, what about result”)\n",
    "    # Step-4: input(“Daughter: Yes dad! Results are out.”)\n",
    "    # Step-5: input(“Father: what is the percentage?”)\n",
    "    # Step-6: input(“Daughter: I will give my subject wise marks , you tell me the percentage”)\n",
    "    # Step-7: input(“Father : Okay!)\n",
    "    # Step-8: sub1=eval(input(“First Language:”))\n",
    "    # Step-9: sub2=eval(input(“Second language:”))\n",
    "    # Step-10: sub3=eval(input(“Third language:”))\n",
    "    # Step-11: sub4=eval(input(“Science:”))\n",
    "    # Step-12: sub5=eval(input(“Maths:”))\n",
    "    # Step-13: Daughter: Dad Now tell me how much percentage I got\n",
    "    # Step-14: Father: Tell me the max marks of each subject\n",
    "    # Step-15: max_marks=eval(input(“Daughter:”)) give=100\n",
    "    # Step-16: calculate the percentage of marks and print it\n",
    "\n",
    "input(\"Father:\")\n",
    "input(\"Daughter:\")\n",
    "input(\"Father:\")\n",
    "input(\"Daughter:\")\n",
    "input(\"Father:\")\n",
    "input(\"Daughter:\")\n",
    "input(\"Father:\")\n",
    "sub1=eval(input(\"First_Language\"))\n",
    "sub2=eval(input(\"Second_language\"))\n",
    "sub3=eval(input(\"Third_language\"))\n",
    "sub4=eval(input(\"Science\"))\n",
    "sub5=eval(input(\"Maths\"))\n",
    "input(\"Daughter:\")\n",
    "input(\"Father:\")\n",
    "input(\"Daughter:\")\n",
    "sub1=90\n",
    "sub2=92\n",
    "sub3=93\n",
    "sub4=94\n",
    "sub5=98\n",
    "obtain_marks=sub1+sub2+sub3+sub4+sub5\n",
    "total_marks=500\n",
    "percentage=(obtain_marks/total_marks)*100\n",
    "print(f\"the percentage of marks is {percentage}\")"
   ]
  },
  {
   "cell_type": "code",
   "execution_count": null,
   "id": "62cc967a-4288-4c9b-b854-2220e359efd7",
   "metadata": {},
   "outputs": [],
   "source": []
  }
 ],
 "metadata": {
  "kernelspec": {
   "display_name": "Python 3 (ipykernel)",
   "language": "python",
   "name": "python3"
  },
  "language_info": {
   "codemirror_mode": {
    "name": "ipython",
    "version": 3
   },
   "file_extension": ".py",
   "mimetype": "text/x-python",
   "name": "python",
   "nbconvert_exporter": "python",
   "pygments_lexer": "ipython3",
   "version": "3.11.7"
  }
 },
 "nbformat": 4,
 "nbformat_minor": 5
}
